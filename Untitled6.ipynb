{
 "cells": [
  {
   "cell_type": "code",
   "execution_count": 1,
   "id": "527caba3",
   "metadata": {},
   "outputs": [
    {
     "name": "stdout",
     "output_type": "stream",
     "text": [
      "4\n",
      "5\n",
      "9.0\n",
      "-1.0\n"
     ]
    }
   ],
   "source": [
    "a=float(input())\n",
    "b=float(input())\n",
    "print(a+b)\n",
    "print(a-b)\n",
    "\n"
   ]
  },
  {
   "cell_type": "code",
   "execution_count": 2,
   "id": "37d2cb01",
   "metadata": {},
   "outputs": [
    {
     "name": "stdout",
     "output_type": "stream",
     "text": [
      "Введите целое число2\n",
      "Введите целое число3\n",
      "Введите целое число10\n",
      "0.0525\n"
     ]
    }
   ],
   "source": [
    "a=int(input('Введите целое число'))\n",
    "b=int(input('Введите целое число'))\n",
    "c=int(input('Введите целое число'))\n",
    "d=a+2\n",
    "e=b+5\n",
    "f=d/e\n",
    "g=f**4\n",
    "h=0.001*c\n",
    "i=g-h\n",
    "print(i)"
   ]
  },
  {
   "cell_type": "code",
   "execution_count": 4,
   "id": "5501f624",
   "metadata": {},
   "outputs": [
    {
     "name": "stdout",
     "output_type": "stream",
     "text": [
      "kji\n",
      "----------------------------------------\n",
      "\t Сообщение:kji\n",
      "----------------------------------------\n"
     ]
    }
   ],
   "source": []
  },
  {
   "cell_type": "code",
   "execution_count": null,
   "id": "7f0dd051",
   "metadata": {},
   "outputs": [],
   "source": []
  },
  {
   "cell_type": "code",
   "execution_count": null,
   "id": "589b6df7",
   "metadata": {},
   "outputs": [],
   "source": []
  },
  {
   "cell_type": "code",
   "execution_count": 5,
   "id": "42d03dcb",
   "metadata": {},
   "outputs": [
    {
     "name": "stdout",
     "output_type": "stream",
     "text": [
      "ты плохой\n",
      "----------------------------------------\n",
      "\t Сообщение:ты плохой\n",
      "----------------------------------------\n"
     ]
    }
   ],
   "source": [
    "a=str(input())\n",
    "print('-'*40)\n",
    "print('\\t Сообщение:' + a)\n",
    "print('-'*40)\n"
   ]
  },
  {
   "cell_type": "code",
   "execution_count": 6,
   "id": "acdb32c4",
   "metadata": {},
   "outputs": [
    {
     "name": "stdout",
     "output_type": "stream",
     "text": [
      "п\n",
      "зелебоба\n"
     ]
    }
   ],
   "source": [
    "a=('липесины, абурбузы, мандалорцы, zxc________--------------++++++++++++Тру____Тру____Тру____Бочист+++++++++++++-----------------______________')\n",
    "b=['лимоны','гуруруши','зелебоба']\n",
    "print(a[2])\n",
    "print(b[2])\n"
   ]
  },
  {
   "cell_type": "code",
   "execution_count": 7,
   "id": "1702d8b0",
   "metadata": {},
   "outputs": [
    {
     "name": "stdout",
     "output_type": "stream",
     "text": [
      "[14, 2357, 457]\n",
      "[14, 2357, 457, 12]\n"
     ]
    }
   ],
   "source": [
    "a=[14,2357,457,4]\n",
    "del(a[3])\n",
    "print(a)\n",
    "a.append(12)\n",
    "print(a)"
   ]
  },
  {
   "cell_type": "code",
   "execution_count": 10,
   "id": "de2fa809",
   "metadata": {},
   "outputs": [
    {
     "name": "stdout",
     "output_type": "stream",
     "text": [
      "{'Китай': 'Пупкин', 'Монголии': 'Улан-Батон', 'Глаз': 'Лепёшка'}\n"
     ]
    }
   ],
   "source": [
    "#Задание 6\n",
    "a={'Китай':'Пупкин','Монголии':'Улан-Батон','Овощ':'Картошка','Глаз':'Лепёшка','Фрукт':'Ананасик'}\n",
    "del(a['Овощ'])\n",
    "del(a['Фрукт'])\n",
    "print(a)\n"
   ]
  },
  {
   "cell_type": "code",
   "execution_count": 14,
   "id": "033c19e2",
   "metadata": {},
   "outputs": [
    {
     "name": "stdout",
     "output_type": "stream",
     "text": [
      "Введите целое число3\n",
      "Введите целое число4\n",
      "Меньше\n"
     ]
    }
   ],
   "source": [
    "a=int(input('Введите целое число:'))\n",
    "b=int(input('Введите целое число:'))\n",
    "if a<b:\n",
    "    print('Меньше')\n",
    "elif a>b:\n",
    "    print('Больше')\n",
    "else:\n",
    "    print('Равно')"
   ]
  },
  {
   "cell_type": "code",
   "execution_count": null,
   "id": "f53b69b8",
   "metadata": {},
   "outputs": [],
   "source": []
  },
  {
   "cell_type": "code",
   "execution_count": 15,
   "id": "a84731c4",
   "metadata": {},
   "outputs": [
    {
     "name": "stdout",
     "output_type": "stream",
     "text": [
      "Введите целое число:5\n",
      "Введите целое число:4\n",
      "Больше\n"
     ]
    }
   ],
   "source": [
    "a=int(input('Введите целое число:'))\n",
    "b=int(input('Введите целое число:'))\n",
    "if a<b:\n",
    "    print('Меньше')\n",
    "elif a>b:\n",
    "    print('Больше')\n",
    "else:\n",
    "    print('Равно')"
   ]
  },
  {
   "cell_type": "code",
   "execution_count": 18,
   "id": "420194db",
   "metadata": {},
   "outputs": [
    {
     "ename": "SyntaxError",
     "evalue": "invalid syntax (2243215808.py, line 2)",
     "output_type": "error",
     "traceback": [
      "\u001b[1;36m  File \u001b[1;32m\"C:\\Users\\CiberOneStudent\\AppData\\Local\\Temp\\ipykernel_740\\2243215808.py\"\u001b[1;36m, line \u001b[1;32m2\u001b[0m\n\u001b[1;33m    if a==1:\u001b[0m\n\u001b[1;37m           ^\u001b[0m\n\u001b[1;31mSyntaxError\u001b[0m\u001b[1;31m:\u001b[0m invalid syntax\n"
     ]
    }
   ],
   "source": []
  },
  {
   "cell_type": "code",
   "execution_count": null,
   "id": "4423218e",
   "metadata": {},
   "outputs": [],
   "source": []
  },
  {
   "cell_type": "code",
   "execution_count": null,
   "id": "784051b9",
   "metadata": {},
   "outputs": [],
   "source": []
  },
  {
   "cell_type": "code",
   "execution_count": null,
   "id": "fcc08252",
   "metadata": {},
   "outputs": [],
   "source": []
  },
  {
   "cell_type": "code",
   "execution_count": 25,
   "id": "bf38bfb3",
   "metadata": {},
   "outputs": [
    {
     "name": "stdout",
     "output_type": "stream",
     "text": [
      "4\n",
      "Четверг\n"
     ]
    }
   ],
   "source": [
    "a=int(input())\n",
    "if (a==1):\n",
    "    print('Понедельник')\n",
    "elif (a==2):\n",
    "    print('Вторник')\n",
    "elif (a==3):\n",
    "    print('Среда')\n",
    "elif (a==4):\n",
    "    print('Четверг')\n",
    "elif (a==5):\n",
    "    print('Пятница')\n",
    "elif (a==6):\n",
    "    print('Суббота')\n",
    "elif (a==7):\n",
    "    print('Воскресенье')\n",
    "else:\n",
    "    print('ООО пин кеа пуба путыщ тыщ ты дурачок мен пуф пуф пуф неправильно код пишешь пуф пуф е')"
   ]
  },
  {
   "cell_type": "code",
   "execution_count": null,
   "id": "0d87f4d6",
   "metadata": {},
   "outputs": [],
   "source": []
  },
  {
   "cell_type": "code",
   "execution_count": 27,
   "id": "86349356",
   "metadata": {},
   "outputs": [
    {
     "name": "stdout",
     "output_type": "stream",
     "text": [
      "3\n"
     ]
    },
    {
     "ename": "NameError",
     "evalue": "name 'k' is not defined",
     "output_type": "error",
     "traceback": [
      "\u001b[1;31m---------------------------------------------------------------------------\u001b[0m",
      "\u001b[1;31mNameError\u001b[0m                                 Traceback (most recent call last)",
      "\u001b[1;32m~\\AppData\\Local\\Temp\\ipykernel_740\\4018512228.py\u001b[0m in \u001b[0;36m<module>\u001b[1;34m\u001b[0m\n\u001b[0;32m      1\u001b[0m \u001b[0ma\u001b[0m\u001b[1;33m=\u001b[0m\u001b[0mint\u001b[0m\u001b[1;33m(\u001b[0m\u001b[0minput\u001b[0m\u001b[1;33m(\u001b[0m\u001b[1;33m)\u001b[0m\u001b[1;33m)\u001b[0m\u001b[1;33m\u001b[0m\u001b[1;33m\u001b[0m\u001b[0m\n\u001b[1;32m----> 2\u001b[1;33m \u001b[0mprint\u001b[0m\u001b[1;33m(\u001b[0m\u001b[0mstr\u001b[0m\u001b[1;33m(\u001b[0m\u001b[0mk\u001b[0m\u001b[1;33m)\u001b[0m \u001b[1;33m+\u001b[0m\u001b[1;34m'километр это'\u001b[0m \u001b[1;33m+\u001b[0m \u001b[0mstr\u001b[0m\u001b[1;33m(\u001b[0m\u001b[0mk\u001b[0m\u001b[1;33m*\u001b[0m\u001b[1;36m1000\u001b[0m\u001b[1;33m)\u001b[0m \u001b[1;33m+\u001b[0m\u001b[1;34m'метров'\u001b[0m\u001b[1;33m)\u001b[0m\u001b[1;33m\u001b[0m\u001b[1;33m\u001b[0m\u001b[0m\n\u001b[0m",
      "\u001b[1;31mNameError\u001b[0m: name 'k' is not defined"
     ]
    }
   ],
   "source": [
    "a=int(input())\n",
    "print(str(k) +'километр это' + str(k*1000) + 'метров')"
   ]
  },
  {
   "cell_type": "code",
   "execution_count": 28,
   "id": "2df0f5e6",
   "metadata": {},
   "outputs": [
    {
     "name": "stdout",
     "output_type": "stream",
     "text": [
      "Введите целое число3\n",
      "Введите целое число3\n",
      "Введите целое число3\n",
      "Введите целое число3\n",
      "9\n",
      "4.5\n"
     ]
    }
   ],
   "source": [
    "a=int(input('Введите целое число'))\n",
    "b=int(input('Введите целое число'))\n",
    "c=int(input('Введите целое число'))\n",
    "h=int(input('Введите целое число'))\n",
    "S=0.5*(a*h)\n",
    "P=a+b+c\n",
    "print(P)\n",
    "print(S)"
   ]
  },
  {
   "cell_type": "code",
   "execution_count": null,
   "id": "4d8430f3",
   "metadata": {},
   "outputs": [],
   "source": []
  }
 ],
 "metadata": {
  "kernelspec": {
   "display_name": "Python 3 (ipykernel)",
   "language": "python",
   "name": "python3"
  },
  "language_info": {
   "codemirror_mode": {
    "name": "ipython",
    "version": 3
   },
   "file_extension": ".py",
   "mimetype": "text/x-python",
   "name": "python",
   "nbconvert_exporter": "python",
   "pygments_lexer": "ipython3",
   "version": "3.9.13"
  }
 },
 "nbformat": 4,
 "nbformat_minor": 5
}
